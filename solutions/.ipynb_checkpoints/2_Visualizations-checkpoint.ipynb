{
 "cells": [
  {
   "cell_type": "markdown",
   "metadata": {},
   "source": [
    "# Visualizing Data\n",
    "\n",
    "**Instructions:**\n",
    "\n",
    "1. Don't use the mouse and see if you can do it. You have all the power in world on the keyboard!\n",
    "2. Create the visualization"
   ]
  },
  {
   "cell_type": "markdown",
   "metadata": {},
   "source": [
    "## Exercise 1\n",
    "\n",
    "1. Create a cell underneath (use keyboard please)\n",
    "2. Import pandas in the standard convention\n",
    "3. Create a DataFrame from the file located in `../data/characters.csv`, this will contain all the characters from the Harry Potter Universe. The data is separated by a ; so use tooltips to figure out how to do stipulate a separator.\n",
    "4. Assign the DataFrame to a variable called `characters`"
   ]
  },
  {
   "cell_type": "code",
   "execution_count": 28,
   "metadata": {
    "ExecuteTime": {
     "end_time": "2020-01-02T05:49:58.285721Z",
     "start_time": "2020-01-02T05:49:58.237346Z"
    }
   },
   "outputs": [
    {
     "data": {
      "text/html": [
       "<div>\n",
       "<style scoped>\n",
       "    .dataframe tbody tr th:only-of-type {\n",
       "        vertical-align: middle;\n",
       "    }\n",
       "\n",
       "    .dataframe tbody tr th {\n",
       "        vertical-align: top;\n",
       "    }\n",
       "\n",
       "    .dataframe thead th {\n",
       "        text-align: right;\n",
       "    }\n",
       "</style>\n",
       "<table border=\"1\" class=\"dataframe\">\n",
       "  <thead>\n",
       "    <tr style=\"text-align: right;\">\n",
       "      <th></th>\n",
       "      <th>Id</th>\n",
       "      <th>Name</th>\n",
       "      <th>Gender</th>\n",
       "      <th>Job</th>\n",
       "      <th>House</th>\n",
       "      <th>Wand</th>\n",
       "      <th>Patronus</th>\n",
       "      <th>Species</th>\n",
       "      <th>Blood status</th>\n",
       "      <th>Hair colour</th>\n",
       "      <th>Eye colour</th>\n",
       "      <th>Loyalty</th>\n",
       "      <th>Skills</th>\n",
       "      <th>Birth</th>\n",
       "      <th>Death</th>\n",
       "    </tr>\n",
       "  </thead>\n",
       "  <tbody>\n",
       "    <tr>\n",
       "      <th>0</th>\n",
       "      <td>1</td>\n",
       "      <td>Harry James Potter</td>\n",
       "      <td>Male</td>\n",
       "      <td>Student</td>\n",
       "      <td>Gryffindor</td>\n",
       "      <td>11\"  Holly  phoenix feather</td>\n",
       "      <td>Stag</td>\n",
       "      <td>Human</td>\n",
       "      <td>Half-blood</td>\n",
       "      <td>Black</td>\n",
       "      <td>Bright green</td>\n",
       "      <td>Albus Dumbledore | Dumbledore's Army | Order o...</td>\n",
       "      <td>Parseltongue| Defence Against the Dark Arts | ...</td>\n",
       "      <td>31 July 1980</td>\n",
       "      <td>NaN</td>\n",
       "    </tr>\n",
       "    <tr>\n",
       "      <th>1</th>\n",
       "      <td>2</td>\n",
       "      <td>Ronald Bilius Weasley</td>\n",
       "      <td>Male</td>\n",
       "      <td>Student</td>\n",
       "      <td>Gryffindor</td>\n",
       "      <td>12\" Ash unicorn tail hair</td>\n",
       "      <td>Jack Russell terrier</td>\n",
       "      <td>Human</td>\n",
       "      <td>Pure-blood</td>\n",
       "      <td>Red</td>\n",
       "      <td>Blue</td>\n",
       "      <td>Dumbledore's Army | Order of the Phoenix | Hog...</td>\n",
       "      <td>Wizard chess | Quidditch goalkeeping</td>\n",
       "      <td>1 March 1980</td>\n",
       "      <td>NaN</td>\n",
       "    </tr>\n",
       "    <tr>\n",
       "      <th>2</th>\n",
       "      <td>3</td>\n",
       "      <td>Hermione Jean Granger</td>\n",
       "      <td>Female</td>\n",
       "      <td>Student</td>\n",
       "      <td>Gryffindor</td>\n",
       "      <td>10¾\"  vine wood dragon heartstring</td>\n",
       "      <td>Otter</td>\n",
       "      <td>Human</td>\n",
       "      <td>Muggle-born</td>\n",
       "      <td>Brown</td>\n",
       "      <td>Brown</td>\n",
       "      <td>Dumbledore's Army | Order of the Phoenix | Hog...</td>\n",
       "      <td>Almost everything</td>\n",
       "      <td>19 September, 1979</td>\n",
       "      <td>NaN</td>\n",
       "    </tr>\n",
       "    <tr>\n",
       "      <th>3</th>\n",
       "      <td>4</td>\n",
       "      <td>Albus Percival Wulfric Brian Dumbledore</td>\n",
       "      <td>Male</td>\n",
       "      <td>Headmaster</td>\n",
       "      <td>Gryffindor</td>\n",
       "      <td>15\" Elder Thestral tail hair core</td>\n",
       "      <td>Phoenix</td>\n",
       "      <td>Human</td>\n",
       "      <td>Half-blood</td>\n",
       "      <td>Silver| formerly auburn</td>\n",
       "      <td>Blue</td>\n",
       "      <td>Dumbledore's Army | Order of the Phoenix | Hog...</td>\n",
       "      <td>Considered by many to be one of the most power...</td>\n",
       "      <td>Late August 1881</td>\n",
       "      <td>30 June, 1997</td>\n",
       "    </tr>\n",
       "    <tr>\n",
       "      <th>4</th>\n",
       "      <td>5</td>\n",
       "      <td>Rubeus Hagrid</td>\n",
       "      <td>Male</td>\n",
       "      <td>Keeper of Keys and Grounds | Professor of Care...</td>\n",
       "      <td>Gryffindor</td>\n",
       "      <td>16\"  Oak unknown core</td>\n",
       "      <td>None</td>\n",
       "      <td>Half-Human/Half-Giant</td>\n",
       "      <td>Part-Human (Half-giant)</td>\n",
       "      <td>Black</td>\n",
       "      <td>Black</td>\n",
       "      <td>Albus Dumbledore | Order of the Phoenix | Hogw...</td>\n",
       "      <td>Resistant to stunning spells| above average st...</td>\n",
       "      <td>6 December 1928</td>\n",
       "      <td>NaN</td>\n",
       "    </tr>\n",
       "    <tr>\n",
       "      <th>...</th>\n",
       "      <td>...</td>\n",
       "      <td>...</td>\n",
       "      <td>...</td>\n",
       "      <td>...</td>\n",
       "      <td>...</td>\n",
       "      <td>...</td>\n",
       "      <td>...</td>\n",
       "      <td>...</td>\n",
       "      <td>...</td>\n",
       "      <td>...</td>\n",
       "      <td>...</td>\n",
       "      <td>...</td>\n",
       "      <td>...</td>\n",
       "      <td>...</td>\n",
       "      <td>...</td>\n",
       "    </tr>\n",
       "    <tr>\n",
       "      <th>135</th>\n",
       "      <td>136</td>\n",
       "      <td>Wilhelmina Grubbly-Plank</td>\n",
       "      <td>Female</td>\n",
       "      <td>Substitute professor of Care of Magical Creatu...</td>\n",
       "      <td>NaN</td>\n",
       "      <td>Unknown</td>\n",
       "      <td>Non-corporeal</td>\n",
       "      <td>Human</td>\n",
       "      <td>NaN</td>\n",
       "      <td>Grey</td>\n",
       "      <td>NaN</td>\n",
       "      <td>Hogwarts School of Witchcraft and Wizardry</td>\n",
       "      <td>NaN</td>\n",
       "      <td>NaN</td>\n",
       "      <td>NaN</td>\n",
       "    </tr>\n",
       "    <tr>\n",
       "      <th>136</th>\n",
       "      <td>137</td>\n",
       "      <td>Fenrir Greyback</td>\n",
       "      <td>Male</td>\n",
       "      <td>NaN</td>\n",
       "      <td>NaN</td>\n",
       "      <td>Unknown</td>\n",
       "      <td>None</td>\n",
       "      <td>Werewolf</td>\n",
       "      <td>NaN</td>\n",
       "      <td>Grey</td>\n",
       "      <td>NaN</td>\n",
       "      <td>Lord Voldemort  | Death Eaters</td>\n",
       "      <td>Physical combat</td>\n",
       "      <td>Pre 1945</td>\n",
       "      <td>NaN</td>\n",
       "    </tr>\n",
       "    <tr>\n",
       "      <th>137</th>\n",
       "      <td>138</td>\n",
       "      <td>Gellert Grindelwald</td>\n",
       "      <td>Male</td>\n",
       "      <td>Revolutionary leader(c. 1920s[6]  1945)</td>\n",
       "      <td>NaN</td>\n",
       "      <td>15\", Elder, Thestral tail hair core</td>\n",
       "      <td>NaN</td>\n",
       "      <td>Human</td>\n",
       "      <td>Pure-blood or half-blood</td>\n",
       "      <td>Blond</td>\n",
       "      <td>Blue</td>\n",
       "      <td>Gellert Grindelwald's Acolytes</td>\n",
       "      <td>Duelling</td>\n",
       "      <td>1883</td>\n",
       "      <td>March, 1998</td>\n",
       "    </tr>\n",
       "    <tr>\n",
       "      <th>138</th>\n",
       "      <td>139</td>\n",
       "      <td>Dobby</td>\n",
       "      <td>Male</td>\n",
       "      <td>Malfoy family's house-elf (? - 1993),\\nHogwart...</td>\n",
       "      <td>NaN</td>\n",
       "      <td>NaN</td>\n",
       "      <td>NaN</td>\n",
       "      <td>House elf</td>\n",
       "      <td>NaN</td>\n",
       "      <td>Green</td>\n",
       "      <td>NaN</td>\n",
       "      <td>NaN</td>\n",
       "      <td>A type of magic specific to house-elves, perfo...</td>\n",
       "      <td>28 June</td>\n",
       "      <td>Late March, 1998</td>\n",
       "    </tr>\n",
       "    <tr>\n",
       "      <th>139</th>\n",
       "      <td>140</td>\n",
       "      <td>Kreacher</td>\n",
       "      <td>Male</td>\n",
       "      <td>\\nBlack family's house-elf (?-1996), \\nHarry P...</td>\n",
       "      <td>NaN</td>\n",
       "      <td>NaN</td>\n",
       "      <td>NaN</td>\n",
       "      <td>House elf</td>\n",
       "      <td>NaN</td>\n",
       "      <td>White</td>\n",
       "      <td>NaN</td>\n",
       "      <td>NaN</td>\n",
       "      <td>Magic performed without a wand which includes ...</td>\n",
       "      <td>NaN</td>\n",
       "      <td>NaN</td>\n",
       "    </tr>\n",
       "  </tbody>\n",
       "</table>\n",
       "<p>140 rows × 15 columns</p>\n",
       "</div>"
      ],
      "text/plain": [
       "      Id                                     Name  Gender  \\\n",
       "0      1                       Harry James Potter    Male   \n",
       "1      2                    Ronald Bilius Weasley    Male   \n",
       "2      3                    Hermione Jean Granger  Female   \n",
       "3      4  Albus Percival Wulfric Brian Dumbledore    Male   \n",
       "4      5                            Rubeus Hagrid    Male   \n",
       "..   ...                                      ...     ...   \n",
       "135  136                 Wilhelmina Grubbly-Plank  Female   \n",
       "136  137                          Fenrir Greyback    Male   \n",
       "137  138                      Gellert Grindelwald    Male   \n",
       "138  139                                    Dobby    Male   \n",
       "139  140                                 Kreacher    Male   \n",
       "\n",
       "                                                   Job       House  \\\n",
       "0                                              Student  Gryffindor   \n",
       "1                                              Student  Gryffindor   \n",
       "2                                              Student  Gryffindor   \n",
       "3                                           Headmaster  Gryffindor   \n",
       "4    Keeper of Keys and Grounds | Professor of Care...  Gryffindor   \n",
       "..                                                 ...         ...   \n",
       "135  Substitute professor of Care of Magical Creatu...         NaN   \n",
       "136                                                NaN         NaN   \n",
       "137           Revolutionary leader(c. 1920s[6]  1945)         NaN   \n",
       "138  Malfoy family's house-elf (? - 1993),\\nHogwart...         NaN   \n",
       "139  \\nBlack family's house-elf (?-1996), \\nHarry P...         NaN   \n",
       "\n",
       "                                    Wand              Patronus  \\\n",
       "0            11\"  Holly  phoenix feather                  Stag   \n",
       "1             12\" Ash unicorn tail hair   Jack Russell terrier   \n",
       "2     10¾\"  vine wood dragon heartstring                 Otter   \n",
       "3      15\" Elder Thestral tail hair core               Phoenix   \n",
       "4                  16\"  Oak unknown core                  None   \n",
       "..                                   ...                   ...   \n",
       "135                              Unknown         Non-corporeal   \n",
       "136                              Unknown                  None   \n",
       "137  15\", Elder, Thestral tail hair core                   NaN   \n",
       "138                                  NaN                   NaN   \n",
       "139                                  NaN                   NaN   \n",
       "\n",
       "                   Species              Blood status              Hair colour  \\\n",
       "0                    Human                Half-blood                    Black   \n",
       "1                    Human                Pure-blood                      Red   \n",
       "2                    Human               Muggle-born                    Brown   \n",
       "3                    Human                Half-blood  Silver| formerly auburn   \n",
       "4    Half-Human/Half-Giant   Part-Human (Half-giant)                    Black   \n",
       "..                     ...                       ...                      ...   \n",
       "135                 Human                        NaN                     Grey   \n",
       "136               Werewolf                       NaN                     Grey   \n",
       "137                 Human   Pure-blood or half-blood                    Blond   \n",
       "138              House elf                       NaN                    Green   \n",
       "139              House elf                       NaN                    White   \n",
       "\n",
       "       Eye colour                                            Loyalty  \\\n",
       "0    Bright green  Albus Dumbledore | Dumbledore's Army | Order o...   \n",
       "1            Blue  Dumbledore's Army | Order of the Phoenix | Hog...   \n",
       "2           Brown  Dumbledore's Army | Order of the Phoenix | Hog...   \n",
       "3            Blue  Dumbledore's Army | Order of the Phoenix | Hog...   \n",
       "4           Black  Albus Dumbledore | Order of the Phoenix | Hogw...   \n",
       "..            ...                                                ...   \n",
       "135           NaN         Hogwarts School of Witchcraft and Wizardry   \n",
       "136           NaN                     Lord Voldemort  | Death Eaters   \n",
       "137          Blue                     Gellert Grindelwald's Acolytes   \n",
       "138           NaN                                                NaN   \n",
       "139           NaN                                                NaN   \n",
       "\n",
       "                                                Skills               Birth  \\\n",
       "0    Parseltongue| Defence Against the Dark Arts | ...        31 July 1980   \n",
       "1                 Wizard chess | Quidditch goalkeeping        1 March 1980   \n",
       "2                                    Almost everything  19 September, 1979   \n",
       "3    Considered by many to be one of the most power...    Late August 1881   \n",
       "4    Resistant to stunning spells| above average st...     6 December 1928   \n",
       "..                                                 ...                 ...   \n",
       "135                                                NaN                 NaN   \n",
       "136                                    Physical combat            Pre 1945   \n",
       "137                                           Duelling                1883   \n",
       "138  A type of magic specific to house-elves, perfo...             28 June   \n",
       "139  Magic performed without a wand which includes ...                 NaN   \n",
       "\n",
       "                Death  \n",
       "0                 NaN  \n",
       "1                 NaN  \n",
       "2                 NaN  \n",
       "3      30 June, 1997   \n",
       "4                 NaN  \n",
       "..                ...  \n",
       "135               NaN  \n",
       "136               NaN  \n",
       "137       March, 1998  \n",
       "138  Late March, 1998  \n",
       "139               NaN  \n",
       "\n",
       "[140 rows x 15 columns]"
      ]
     },
     "execution_count": 28,
     "metadata": {},
     "output_type": "execute_result"
    }
   ],
   "source": [
    "import pandas as pd\n",
    "\n",
    "characters = pd.read_csv('../data/characters.csv', sep=';')\n",
    "characters"
   ]
  },
  {
   "cell_type": "markdown",
   "metadata": {},
   "source": [
    "## Exercise 2\n",
    "\n",
    "1. Import the standard packages and their conventions to perform plotting"
   ]
  },
  {
   "cell_type": "code",
   "execution_count": 29,
   "metadata": {
    "ExecuteTime": {
     "end_time": "2020-01-02T05:50:03.030459Z",
     "start_time": "2020-01-02T05:50:03.017856Z"
    }
   },
   "outputs": [],
   "source": [
    "%matplotlib inline\n",
    "import matplotlib.pyplot as plt\n",
    "import numpy as np\n",
    "import seaborn as sns"
   ]
  },
  {
   "cell_type": "markdown",
   "metadata": {},
   "source": [
    "## Exercise 3\n",
    "1. Run the following cells to clean up the data, the new cleaned up `DataFrame` is called `clean_characters` \n",
    "2. Create a bar plot showing how many characters belong to each house. Hint there are fewer columns"
   ]
  },
  {
   "cell_type": "code",
   "execution_count": 33,
   "metadata": {
    "ExecuteTime": {
     "end_time": "2020-01-02T05:50:33.875140Z",
     "start_time": "2020-01-02T05:50:33.855643Z"
    }
   },
   "outputs": [
    {
     "data": {
      "text/html": [
       "<div>\n",
       "<style scoped>\n",
       "    .dataframe tbody tr th:only-of-type {\n",
       "        vertical-align: middle;\n",
       "    }\n",
       "\n",
       "    .dataframe tbody tr th {\n",
       "        vertical-align: top;\n",
       "    }\n",
       "\n",
       "    .dataframe thead th {\n",
       "        text-align: right;\n",
       "    }\n",
       "</style>\n",
       "<table border=\"1\" class=\"dataframe\">\n",
       "  <thead>\n",
       "    <tr style=\"text-align: right;\">\n",
       "      <th></th>\n",
       "      <th>Name</th>\n",
       "      <th>House</th>\n",
       "    </tr>\n",
       "  </thead>\n",
       "  <tbody>\n",
       "    <tr>\n",
       "      <th>0</th>\n",
       "      <td>Harry James Potter</td>\n",
       "      <td>Gryffindor</td>\n",
       "    </tr>\n",
       "    <tr>\n",
       "      <th>1</th>\n",
       "      <td>Ronald Bilius Weasley</td>\n",
       "      <td>Gryffindor</td>\n",
       "    </tr>\n",
       "    <tr>\n",
       "      <th>2</th>\n",
       "      <td>Hermione Jean Granger</td>\n",
       "      <td>Gryffindor</td>\n",
       "    </tr>\n",
       "    <tr>\n",
       "      <th>3</th>\n",
       "      <td>Albus Percival Wulfric Brian Dumbledore</td>\n",
       "      <td>Gryffindor</td>\n",
       "    </tr>\n",
       "    <tr>\n",
       "      <th>4</th>\n",
       "      <td>Rubeus Hagrid</td>\n",
       "      <td>Gryffindor</td>\n",
       "    </tr>\n",
       "  </tbody>\n",
       "</table>\n",
       "</div>"
      ],
      "text/plain": [
       "                                      Name       House\n",
       "0                       Harry James Potter  Gryffindor\n",
       "1                    Ronald Bilius Weasley  Gryffindor\n",
       "2                    Hermione Jean Granger  Gryffindor\n",
       "3  Albus Percival Wulfric Brian Dumbledore  Gryffindor\n",
       "4                            Rubeus Hagrid  Gryffindor"
      ]
     },
     "execution_count": 33,
     "metadata": {},
     "output_type": "execute_result"
    }
   ],
   "source": [
    "clean_characters = characters[['Name', 'House']].dropna()\n",
    "clean_characters.head()"
   ]
  },
  {
   "cell_type": "code",
   "execution_count": 34,
   "metadata": {
    "ExecuteTime": {
     "end_time": "2020-01-02T05:50:35.863655Z",
     "start_time": "2020-01-02T05:50:35.842038Z"
    }
   },
   "outputs": [
    {
     "data": {
      "text/plain": [
       "Gryffindor                      38\n",
       "Slytherin                       28\n",
       "Ravenclaw                       18\n",
       "Hufflepuff                      13\n",
       "Beauxbatons Academy of Magic     3\n",
       "Durmstrang Institute             1\n",
       "Name: House, dtype: int64"
      ]
     },
     "execution_count": 34,
     "metadata": {},
     "output_type": "execute_result"
    }
   ],
   "source": [
    "value_counts = clean_characters['House'].value_counts()\n",
    "value_counts"
   ]
  },
  {
   "cell_type": "code",
   "execution_count": 35,
   "metadata": {
    "ExecuteTime": {
     "end_time": "2020-01-02T05:50:38.171217Z",
     "start_time": "2020-01-02T05:50:38.165620Z"
    }
   },
   "outputs": [],
   "source": [
    "x_axis = value_counts.index\n",
    "y_axis = value_counts.values"
   ]
  },
  {
   "cell_type": "code",
   "execution_count": 37,
   "metadata": {
    "ExecuteTime": {
     "end_time": "2020-01-02T05:51:36.714083Z",
     "start_time": "2020-01-02T05:51:36.707499Z"
    }
   },
   "outputs": [
    {
     "data": {
      "text/plain": [
       "Index(['Gryffindor', 'Slytherin', 'Ravenclaw', 'Hufflepuff',\n",
       "       'Beauxbatons Academy of Magic', 'Durmstrang Institute'],\n",
       "      dtype='object')"
      ]
     },
     "execution_count": 37,
     "metadata": {},
     "output_type": "execute_result"
    }
   ],
   "source": [
    "x_axis"
   ]
  },
  {
   "cell_type": "code",
   "execution_count": 38,
   "metadata": {
    "ExecuteTime": {
     "end_time": "2020-01-02T05:51:42.873536Z",
     "start_time": "2020-01-02T05:51:42.862233Z"
    }
   },
   "outputs": [
    {
     "data": {
      "text/plain": [
       "array([38, 28, 18, 13,  3,  1])"
      ]
     },
     "execution_count": 38,
     "metadata": {},
     "output_type": "execute_result"
    }
   ],
   "source": [
    "y_axis"
   ]
  },
  {
   "cell_type": "markdown",
   "metadata": {},
   "source": [
    "Using Matplotlib"
   ]
  },
  {
   "cell_type": "code",
   "execution_count": 40,
   "metadata": {
    "ExecuteTime": {
     "end_time": "2020-01-02T05:52:30.110131Z",
     "start_time": "2020-01-02T05:52:29.860304Z"
    }
   },
   "outputs": [
    {
     "data": {
      "image/png": "[encoded data removed]",
      "text/plain": [
       "<Figure size 1656x360 with 1 Axes>"
      ]
     },
     "metadata": {},
     "output_type": "display_data"
    }
   ],
   "source": [
    "plt.figure(figsize=(23,5))\n",
    "sns.set_style(\"whitegrid\")\n",
    "plt.bar(x_axis, y_axis);"
   ]
  },
  {
   "cell_type": "markdown",
   "metadata": {},
   "source": [
    "Using Seaborn"
   ]
  },
  {
   "cell_type": "code",
   "execution_count": 41,
   "metadata": {
    "ExecuteTime": {
     "end_time": "2020-01-02T05:52:37.338419Z",
     "start_time": "2020-01-02T05:52:36.806483Z"
    }
   },
   "outputs": [
    {
     "data": {
      "image/png": "[encoded data removed]",
      "text/plain": [
       "<Figure size 1656x360 with 1 Axes>"
      ]
     },
     "metadata": {},
     "output_type": "display_data"
    }
   ],
   "source": [
    "plt.figure(figsize=(23,5))\n",
    "sns.set_style(\"whitegrid\")\n",
    "sns.barplot(x_axis, y_axis);"
   ]
  }
 ],
 "metadata": {
  "kernelspec": {
   "display_name": "Python 3",
   "language": "python",
   "name": "python3"
  },
  "language_info": {
   "codemirror_mode": {
    "name": "ipython",
    "version": 3
   },
   "file_extension": ".py",
   "mimetype": "text/x-python",
   "name": "python",
   "nbconvert_exporter": "python",
   "pygments_lexer": "ipython3",
   "version": "3.7.5"
  },
  "toc": {
   "base_numbering": 1,
   "nav_menu": {},
   "number_sections": true,
   "sideBar": true,
   "skip_h1_title": false,
   "title_cell": "Table of Contents",
   "title_sidebar": "Contents",
   "toc_cell": false,
   "toc_position": {},
   "toc_section_display": true,
   "toc_window_display": false
  }
 },
 "nbformat": 4,
 "nbformat_minor": 2
}
