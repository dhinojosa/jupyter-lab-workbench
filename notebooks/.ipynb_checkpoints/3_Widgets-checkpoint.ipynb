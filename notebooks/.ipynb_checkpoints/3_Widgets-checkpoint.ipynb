{
 "cells": [
  {
   "cell_type": "markdown",
   "metadata": {},
   "source": [
    "# Widgets\n",
    "\n",
    "## `interact`\n",
    "The interact function (`ipywidgets.interact`) automatically creates user interface (UI) controls for exploring code and data interactively. It is the easiest way to get started using IPython’s widgets."
   ]
  },
  {
   "cell_type": "markdown",
   "metadata": {},
   "source": [
    "At the most basic level, interact autogenerates UI controls for function arguments, and then calls the function with those arguments when you manipulate the controls interactively. To use interact, you need to define a function that you want to explore."
   ]
  },
  {
   "cell_type": "markdown",
   "metadata": {},
   "source": [
    "Importing the required packages"
   ]
  },
  {
   "cell_type": "code",
   "execution_count": null,
   "metadata": {
    "ExecuteTime": {
     "end_time": "2020-01-03T19:33:25.381147Z",
     "start_time": "2020-01-03T19:33:25.375840Z"
    }
   },
   "outputs": [],
   "source": [
    "from ipywidgets import interact\n",
    "import ipywidgets as widgets"
   ]
  },
  {
   "cell_type": "markdown",
   "metadata": {},
   "source": [
    "Create a function to interact with the widget"
   ]
  },
  {
   "cell_type": "code",
   "execution_count": null,
   "metadata": {
    "ExecuteTime": {
     "end_time": "2020-01-03T19:33:25.390776Z",
     "start_time": "2020-01-03T19:33:25.386365Z"
    }
   },
   "outputs": [],
   "source": [
    "def power_squared(x):\n",
    "    return x ** 2"
   ]
  },
  {
   "cell_type": "code",
   "execution_count": null,
   "metadata": {
    "ExecuteTime": {
     "end_time": "2020-01-03T19:33:25.452882Z",
     "start_time": "2020-01-03T19:33:25.397249Z"
    }
   },
   "outputs": [],
   "source": [
    "interact(power_squared, x=10);"
   ]
  },
  {
   "cell_type": "markdown",
   "metadata": {},
   "source": [
    "`interact` can be given a 3-tuple which represents minimum, maximum, and step"
   ]
  },
  {
   "cell_type": "code",
   "execution_count": null,
   "metadata": {
    "ExecuteTime": {
     "end_time": "2020-01-03T19:33:25.504333Z",
     "start_time": "2020-01-03T19:33:25.455839Z"
    }
   },
   "outputs": [],
   "source": [
    "interact(power_squared, x=(-10, 100, 10));"
   ]
  },
  {
   "cell_type": "markdown",
   "metadata": {},
   "source": [
    "`fixed` will always use the same value, and will not offer your end users the ability to change the value"
   ]
  },
  {
   "cell_type": "code",
   "execution_count": null,
   "metadata": {
    "ExecuteTime": {
     "end_time": "2020-01-03T19:33:25.512916Z",
     "start_time": "2020-01-03T19:33:25.508028Z"
    }
   },
   "outputs": [],
   "source": [
    "def h(p, q):\n",
    "    return (p, q)"
   ]
  },
  {
   "cell_type": "code",
   "execution_count": null,
   "metadata": {
    "ExecuteTime": {
     "end_time": "2020-01-03T19:33:58.816110Z",
     "start_time": "2020-01-03T19:33:58.742636Z"
    }
   },
   "outputs": [],
   "source": [
    "from ipywidgets import fixed\n",
    "interact(h, p=5, q=fixed(20));"
   ]
  },
  {
   "cell_type": "markdown",
   "metadata": {},
   "source": [
    "## Widget Abbreviations"
   ]
  },
  {
   "cell_type": "markdown",
   "metadata": {},
   "source": [
    "When you pass an integer-valued keyword argument of `10` (`x=10`) to `interact`, it generates an integer-valued slider control with a range of $[-10,+3*10]$. In this case, `10` is an abbreviation for an actual slider widget called `widgets.IntSlider`"
   ]
  },
  {
   "cell_type": "markdown",
   "metadata": {},
   "source": [
    "Using the full `IntSlider`"
   ]
  },
  {
   "cell_type": "code",
   "execution_count": null,
   "metadata": {
    "ExecuteTime": {
     "end_time": "2020-01-03T19:34:01.721343Z",
     "start_time": "2020-01-03T19:34:01.669283Z"
    }
   },
   "outputs": [],
   "source": [
    "interact(power_squared, x=widgets.IntSlider(min=-10, max=30, step=1, value=10));"
   ]
  },
  {
   "cell_type": "markdown",
   "metadata": {},
   "source": [
    "If the keyword argument is a Widget instance with a value attribute, that widget is used. Any widget with a value attribute can be used, even custom ones.\n",
    "\n",
    "Otherwise, the value is treated as a widget abbreviation that is converted to a widget before it is used.\n",
    "\n",
    "The following table gives an overview of different widget abbreviations:\n",
    "\n",
    "| Keyword Argument                                                             | Widget      |\n",
    "|------------------------------------------------------------------------------|-------------|\n",
    "| True or False                                                                | Checkbox    |\n",
    "| `value` `(min, max)` or `(min, max, step`)                                   | IntSlider   |\n",
    "|  if float `value` `(min, max)` or `(min, max, step`)                         | FloatSlider |\n",
    "| List of elements `['red', 'yellow', 'orange']` or `[('one', 1), ('two', 2)]` | Dropdown    |"
   ]
  },
  {
   "cell_type": "markdown",
   "metadata": {},
   "source": [
    "Example of interaction using default values and the widget that it represents"
   ]
  },
  {
   "cell_type": "code",
   "execution_count": null,
   "metadata": {
    "ExecuteTime": {
     "end_time": "2020-01-03T19:34:04.173440Z",
     "start_time": "2020-01-03T19:34:04.168634Z"
    }
   },
   "outputs": [],
   "source": [
    "def compute(x, y, z):\n",
    "    if (z):\n",
    "       return x + y\n",
    "    else: \n",
    "       return x * y"
   ]
  },
  {
   "cell_type": "code",
   "execution_count": null,
   "metadata": {
    "ExecuteTime": {
     "end_time": "2020-01-03T19:34:06.004849Z",
     "start_time": "2020-01-03T19:34:05.841499Z"
    }
   },
   "outputs": [],
   "source": [
    "interact(compute, x = 10, y = (-10, 10, 2), z=True);"
   ]
  },
  {
   "cell_type": "markdown",
   "metadata": {},
   "source": [
    "## `interactive`\n",
    "\n",
    "* you want to reuse the widgets that are produced or access the data that is bound to the UI controls.\n",
    "* Unlike `interact`, the return value of the function _will not be displayed automatically_, \n",
    "* You can display a value inside the function with a call to `IPython.display.display`\n",
    "* You will also be using `display` twice\n",
    "  1. For displaying the value\n",
    "  2. For displaying the widget"
   ]
  },
  {
   "cell_type": "markdown",
   "metadata": {},
   "source": [
    "Using `display` to display the elements"
   ]
  },
  {
   "cell_type": "code",
   "execution_count": null,
   "metadata": {
    "ExecuteTime": {
     "end_time": "2020-01-03T19:36:07.688052Z",
     "start_time": "2020-01-03T19:36:07.681348Z"
    }
   },
   "outputs": [],
   "source": [
    "from IPython.display import display\n",
    "def my_adder(a, b):\n",
    "    display(\"the result of %d and %d is %d\" % (a, b,  a + b))\n",
    "    return a+b"
   ]
  },
  {
   "cell_type": "code",
   "execution_count": null,
   "metadata": {
    "ExecuteTime": {
     "end_time": "2020-01-03T19:36:17.288907Z",
     "start_time": "2020-01-03T19:36:17.182220Z"
    }
   },
   "outputs": [],
   "source": [
    "from ipywidgets import interactive\n",
    "w = interactive(my_adder, a=10, b=20)\n",
    "display(w)"
   ]
  },
  {
   "cell_type": "markdown",
   "metadata": {},
   "source": [
    "### Retaining the state of the `widget`\n",
    "\n",
    "What is interesting about the reference to the widget is that it will maintain the state of the values"
   ]
  },
  {
   "cell_type": "code",
   "execution_count": null,
   "metadata": {
    "ExecuteTime": {
     "end_time": "2020-01-03T19:36:27.271073Z",
     "start_time": "2020-01-03T19:36:27.254921Z"
    }
   },
   "outputs": [],
   "source": [
    "print(w.kwargs)"
   ]
  },
  {
   "cell_type": "markdown",
   "metadata": {},
   "source": [
    "It also holds the result of the interaction"
   ]
  },
  {
   "cell_type": "code",
   "execution_count": null,
   "metadata": {
    "ExecuteTime": {
     "end_time": "2020-01-03T19:36:28.935376Z",
     "start_time": "2020-01-03T19:36:28.931155Z"
    }
   },
   "outputs": [],
   "source": [
    "print(w.result)"
   ]
  },
  {
   "cell_type": "markdown",
   "metadata": {},
   "source": [
    "## Manual interaction\n",
    "\n",
    "In case the evaluation takes a lot of time, you can use `interact_manual` to specify when it is being evaluated.\n",
    "\n",
    "Here is a slow function where we are evaluating the time using a \"magic command\" called `%timeit`"
   ]
  },
  {
   "cell_type": "code",
   "execution_count": null,
   "metadata": {
    "ExecuteTime": {
     "end_time": "2020-01-03T19:39:11.388187Z",
     "start_time": "2020-01-03T19:39:11.379081Z"
    }
   },
   "outputs": [],
   "source": [
    "from time import sleep\n",
    "def slow_function(i):\n",
    "    print('Given a value of %d' % i)\n",
    "    sleep(2.5)\n",
    "    print('Slept for 2.5 seconds')\n",
    "    return"
   ]
  },
  {
   "cell_type": "code",
   "execution_count": null,
   "metadata": {
    "ExecuteTime": {
     "end_time": "2020-01-03T19:39:33.895142Z",
     "start_time": "2020-01-03T19:39:13.871715Z"
    }
   },
   "outputs": [],
   "source": [
    "%timeit slow_function(1e6)"
   ]
  },
  {
   "cell_type": "markdown",
   "metadata": {},
   "source": [
    "Here is the slow function if we were to run an interact with it, notice how slow it becomes every time we decide to move the slider. Notice the hour glass favicon in your tab, or listen to the computer fan.  "
   ]
  },
  {
   "cell_type": "code",
   "execution_count": null,
   "metadata": {
    "ExecuteTime": {
     "end_time": "2020-01-03T19:39:43.968537Z",
     "start_time": "2020-01-03T19:39:41.391196Z"
    }
   },
   "outputs": [],
   "source": [
    "interact(slow_function,i=widgets.FloatSlider(min=1e5, max=1e7, step=1e5));"
   ]
  },
  {
   "cell_type": "markdown",
   "metadata": {},
   "source": [
    "`interact_manual` gives you the opportunity to update whenever you require it and will not do so automatically"
   ]
  },
  {
   "cell_type": "code",
   "execution_count": null,
   "metadata": {
    "ExecuteTime": {
     "end_time": "2020-01-03T19:40:13.916148Z",
     "start_time": "2020-01-03T19:40:13.865761Z"
    }
   },
   "outputs": [],
   "source": [
    "from ipywidgets import interact_manual\n",
    "interact_manual(slow_function,i=widgets.FloatSlider(min=1e5, max=1e7, step=1e5));"
   ]
  },
  {
   "cell_type": "markdown",
   "metadata": {},
   "source": [
    "## Continuous Update\n",
    "\n",
    "Continuous Update is an addition `kwargs` (extra python argument) that will determine whether it will calculated on all mouse movements, not just mouse releases. When set to `False` it will only update with a mouse release"
   ]
  },
  {
   "cell_type": "markdown",
   "metadata": {},
   "source": [
    "`continuous_update` is set to `False` thus _only_ listening to mouse release events not movement."
   ]
  },
  {
   "cell_type": "code",
   "execution_count": null,
   "metadata": {
    "ExecuteTime": {
     "end_time": "2020-01-03T19:40:26.171024Z",
     "start_time": "2020-01-03T19:40:23.624202Z"
    }
   },
   "outputs": [],
   "source": [
    "interact(slow_function,i=widgets.FloatSlider(min=1e5, max=1e7, step=1e5, continuous_update=False));"
   ]
  },
  {
   "cell_type": "markdown",
   "metadata": {},
   "source": [
    "## Interactive Output\n",
    "\n",
    "* `interactive_output` does not generate a user interface for the widgets. \n",
    "* You can connect widget controls to a function\n",
    "* Gives you more control over the widget and its layout. "
   ]
  },
  {
   "cell_type": "code",
   "execution_count": null,
   "metadata": {
    "ExecuteTime": {
     "end_time": "2020-01-03T19:40:30.894885Z",
     "start_time": "2020-01-03T19:40:30.805274Z"
    }
   },
   "outputs": [],
   "source": [
    "a = widgets.IntSlider()\n",
    "b = widgets.IntSlider()\n",
    "c = widgets.IntSlider()\n",
    "\n",
    "#Horizontal Box\n",
    "ui = widgets.HBox([a, b, c]) \n",
    "\n",
    "def f(a, b, c):\n",
    "    print((a, b, c))\n",
    "\n",
    "out = widgets.interactive_output(f, {'a': a, 'b': b, 'c': c})\n",
    "\n",
    "#Nothing happens until we do a display\n",
    "display(ui, out)"
   ]
  },
  {
   "cell_type": "markdown",
   "metadata": {},
   "source": [
    "## `link`\n",
    "\n",
    "`link` can be used to tie two widgets together."
   ]
  },
  {
   "cell_type": "code",
   "execution_count": null,
   "metadata": {
    "ExecuteTime": {
     "end_time": "2020-01-03T19:40:43.739312Z",
     "start_time": "2020-01-03T19:40:43.703301Z"
    }
   },
   "outputs": [],
   "source": [
    "a = widgets.FloatText()\n",
    "b = widgets.FloatSlider()\n",
    "display(a,b)\n",
    "\n",
    "mylink = widgets.link((a, 'value'), (b, 'value'))"
   ]
  },
  {
   "cell_type": "markdown",
   "metadata": {},
   "source": [
    "## `jslink`\n",
    "\n",
    "`jslink` can be used to tie two widgets together. This is browser level and doesn't involve sending information back to the kernel."
   ]
  },
  {
   "cell_type": "code",
   "execution_count": null,
   "metadata": {
    "ExecuteTime": {
     "end_time": "2020-01-03T19:40:47.950004Z",
     "start_time": "2020-01-03T19:40:47.895604Z"
    }
   },
   "outputs": [],
   "source": [
    "a = widgets.FloatText()\n",
    "b = widgets.FloatSlider()\n",
    "display(a,b)\n",
    "\n",
    "mylink = widgets.jslink((a, 'value'), (b, 'value'))"
   ]
  },
  {
   "cell_type": "markdown",
   "metadata": {},
   "source": [
    "### Widgets and $LaTeX$"
   ]
  },
  {
   "cell_type": "code",
   "execution_count": null,
   "metadata": {
    "ExecuteTime": {
     "end_time": "2020-01-03T19:41:09.842649Z",
     "start_time": "2020-01-03T19:41:09.804870Z"
    }
   },
   "outputs": [],
   "source": [
    "widgets.IntSlider(description=r'\\(\\int_0^t f\\)')"
   ]
  },
  {
   "cell_type": "code",
   "execution_count": null,
   "metadata": {
    "ExecuteTime": {
     "end_time": "2020-01-03T19:41:36.269779Z",
     "start_time": "2020-01-03T19:41:36.235065Z"
    }
   },
   "outputs": [],
   "source": [
    "from ipywidgets import Label\n",
    "Label(value=r'\\(e=mc^2\\)')"
   ]
  },
  {
   "cell_type": "markdown",
   "metadata": {},
   "source": [
    "## Interesting Widgets\n",
    "\n",
    "There are many standard widgets such as `IntSlider`, `FloatSlider`. There are some other interesting ones as well."
   ]
  },
  {
   "cell_type": "markdown",
   "metadata": {},
   "source": [
    "### `DatePicker` \n",
    "\n",
    "Note: Not available in Safari"
   ]
  },
  {
   "cell_type": "code",
   "execution_count": null,
   "metadata": {
    "ExecuteTime": {
     "end_time": "2020-01-03T19:41:39.276607Z",
     "start_time": "2020-01-03T19:41:39.259515Z"
    }
   },
   "outputs": [],
   "source": [
    "import datetime\n",
    "w = widgets.DatePicker(\n",
    "    description='Pick a Date',\n",
    "    disabled=False\n",
    ")\n",
    "w.value = datetime.datetime.now()\n",
    "\n",
    "display(w)"
   ]
  },
  {
   "cell_type": "markdown",
   "metadata": {},
   "source": [
    "### `ColorPicker`"
   ]
  },
  {
   "cell_type": "code",
   "execution_count": null,
   "metadata": {
    "ExecuteTime": {
     "end_time": "2020-01-03T19:41:41.738010Z",
     "start_time": "2020-01-03T19:41:41.719494Z"
    }
   },
   "outputs": [],
   "source": [
    "w = widgets.ColorPicker(\n",
    "    concise=False,\n",
    "    description='Pick a color',\n",
    "    value='pink',\n",
    "    disabled=False\n",
    ")\n",
    "display(w)"
   ]
  },
  {
   "cell_type": "markdown",
   "metadata": {},
   "source": [
    "## Widgets Layouts\n",
    "\n",
    "All widgets have a CSS style layout elements that impact the look and feel of these widgets where dashes are replaced by underscores."
   ]
  },
  {
   "cell_type": "code",
   "execution_count": null,
   "metadata": {
    "ExecuteTime": {
     "end_time": "2020-01-03T19:41:44.301881Z",
     "start_time": "2020-01-03T19:41:44.243508Z"
    }
   },
   "outputs": [],
   "source": [
    "from ipywidgets import Button, Layout\n",
    "\n",
    "b = Button(description='(50% width, 80px height) button',\n",
    "           layout=Layout(width='50%', height='80px'))\n",
    "b"
   ]
  },
  {
   "cell_type": "markdown",
   "metadata": {},
   "source": [
    "Layout can be used as a reference, in the following example `b.layout` is using the same layout as the `b` widget above"
   ]
  },
  {
   "cell_type": "code",
   "execution_count": null,
   "metadata": {
    "ExecuteTime": {
     "end_time": "2020-01-03T19:41:46.885918Z",
     "start_time": "2020-01-03T19:41:46.868028Z"
    }
   },
   "outputs": [],
   "source": [
    "Button(description='Another button with the same layout', layout=b.layout)"
   ]
  },
  {
   "cell_type": "markdown",
   "metadata": {},
   "source": [
    "### Descriptions too long\n",
    "\n",
    "Styles can be adjusted if the descriptions are too long"
   ]
  },
  {
   "cell_type": "code",
   "execution_count": null,
   "metadata": {
    "ExecuteTime": {
     "end_time": "2020-01-03T19:41:50.007074Z",
     "start_time": "2020-01-03T19:41:49.987430Z"
    }
   },
   "outputs": [],
   "source": [
    "from ipywidgets import IntSlider\n",
    "\n",
    "IntSlider(description='A too long description')"
   ]
  },
  {
   "cell_type": "code",
   "execution_count": null,
   "metadata": {
    "ExecuteTime": {
     "end_time": "2020-01-03T19:41:51.894802Z",
     "start_time": "2020-01-03T19:41:51.866569Z"
    }
   },
   "outputs": [],
   "source": [
    "style = {'description_width': 'initial'}\n",
    "IntSlider(description='A too long description', style=style)"
   ]
  },
  {
   "cell_type": "markdown",
   "metadata": {},
   "source": [
    "Using `Label` directly and place it in an `HBox` layout can show full customization."
   ]
  },
  {
   "cell_type": "code",
   "execution_count": null,
   "metadata": {
    "ExecuteTime": {
     "end_time": "2020-01-03T19:41:56.028683Z",
     "start_time": "2020-01-03T19:41:55.982615Z"
    }
   },
   "outputs": [],
   "source": [
    "from ipywidgets import HBox, Label\n",
    "\n",
    "HBox([Label('A too long description'), IntSlider()])"
   ]
  },
  {
   "cell_type": "markdown",
   "metadata": {},
   "source": [
    "## Layouts\n",
    "\n",
    "### `Box`, `HBox` and `VBox`\n",
    "\n",
    "Natural sizes, and arrangements using `HBox` and `VBox`\n",
    "Most of the core-widgets have default heights and widths that tile well together. This allows simple layouts based on the `HBox` and `VBox` helper functions to align naturally"
   ]
  },
  {
   "cell_type": "code",
   "execution_count": null,
   "metadata": {
    "ExecuteTime": {
     "end_time": "2020-01-03T19:41:59.547667Z",
     "start_time": "2020-01-03T19:41:59.452149Z"
    }
   },
   "outputs": [],
   "source": [
    "from ipywidgets import Button, HBox, VBox\n",
    "\n",
    "words = ['Andorra', 'Bolivia', 'Bangladesh', 'Cambodia']\n",
    "items = [Button(description=w) for w in words]\n",
    "left_box = VBox([items[0], items[1]])\n",
    "right_box = VBox([items[2], items[3]])\n",
    "HBox([left_box, right_box])"
   ]
  },
  {
   "cell_type": "markdown",
   "metadata": {},
   "source": [
    "### `Flexbox`\n",
    "\n",
    "`Flexbox` is modeled after the CSS Flexbox design. Where different flows can be created\n",
    "\n",
    "https://css-tricks.com/snippets/css/a-guide-to-flexbox/\n"
   ]
  },
  {
   "cell_type": "code",
   "execution_count": null,
   "metadata": {
    "ExecuteTime": {
     "end_time": "2020-01-03T19:42:01.618168Z",
     "start_time": "2020-01-03T19:42:01.460842Z"
    }
   },
   "outputs": [],
   "source": [
    "from ipywidgets import Button, HBox, VBox, Box\n",
    "\n",
    "words = ['Andorra', 'Bolivia', 'Bangladesh', \n",
    "         'Cambodia', 'Mexico', 'Canada', \n",
    "         'Japan', 'South Africa']\n",
    "\n",
    "buttons = [Button(description=w) for w in words]\n",
    "\n",
    "buttons_layout = Layout(width='auto')\n",
    "\n",
    "box_layout = Layout(display='flex',\n",
    "                    flex_flow='column',\n",
    "                    align_items='stretch',\n",
    "                    border='solid',\n",
    "                    border_width='1px',\n",
    "                    width='50%')\n",
    "\n",
    "items = [Button(description=word, \n",
    "                layout=buttons_layout, \n",
    "                button_style='success') for word in words]\n",
    "\n",
    "box = Box(children=items, layout=box_layout)\n",
    "box"
   ]
  }
 ],
 "metadata": {
  "kernelspec": {
   "display_name": "Python 3",
   "language": "python",
   "name": "python3"
  },
  "language_info": {
   "codemirror_mode": {
    "name": "ipython",
    "version": 3
   },
   "file_extension": ".py",
   "mimetype": "text/x-python",
   "name": "python",
   "nbconvert_exporter": "python",
   "pygments_lexer": "ipython3",
   "version": "3.7.5"
  },
  "toc": {
   "base_numbering": 1,
   "nav_menu": {},
   "number_sections": true,
   "sideBar": true,
   "skip_h1_title": false,
   "title_cell": "Table of Contents",
   "title_sidebar": "Contents",
   "toc_cell": false,
   "toc_position": {},
   "toc_section_display": true,
   "toc_window_display": true
  }
 },
 "nbformat": 4,
 "nbformat_minor": 2
}
