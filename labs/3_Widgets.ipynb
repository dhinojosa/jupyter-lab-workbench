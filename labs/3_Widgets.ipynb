{
 "cells": [
  {
   "cell_type": "markdown",
   "metadata": {},
   "source": [
    "# Widgets\n",
    "\n",
    "For this exercise let's take some world population data and make it sparkle with interactivity! Also, notice how we are telling a story with this particular notebook"
   ]
  },
  {
   "cell_type": "markdown",
   "metadata": {},
   "source": [
    "## Getting Data\n",
    "\n",
    "I wanted to get some data about the world's population, and found a csv online that I can use from a wonderful repository called [Github Datasets](https://github.com/datasets)"
   ]
  },
  {
   "cell_type": "code",
   "execution_count": null,
   "metadata": {
    "ExecuteTime": {
     "end_time": "2020-01-02T06:42:17.789877Z",
     "start_time": "2020-01-02T06:42:17.249957Z"
    }
   },
   "outputs": [],
   "source": [
    "import pandas as pd\n",
    "\n",
    "real_population = pd.read_csv('https://raw.githubusercontent.com/datasets/population/master/data/population.csv')"
   ]
  },
  {
   "cell_type": "markdown",
   "metadata": {},
   "source": [
    "## Engineering Data\n",
    "\n",
    "Next, I needed to remove the entries that aren't actual countries"
   ]
  },
  {
   "cell_type": "code",
   "execution_count": null,
   "metadata": {
    "ExecuteTime": {
     "end_time": "2020-01-02T06:42:17.789877Z",
     "start_time": "2020-01-02T06:42:17.249957Z"
    }
   },
   "outputs": [],
   "source": [
    "clean_population = real_population[~real_population['Country Code'].str.contains('CSS|ARB|CEB|EAR|EAS|EAP|TEA|EMU|ECS|ECA|TEC|EUU|FCS|HPC|HIC|IBRD|IBD|IBT|IDB|IDX|IDA|LTE|LCN|LAC|TLA|LDC|LMY|LIC|LMC|MEA|MNA|TMN|MIC|NAC|OED|OSS|PSS|PST|PRE|SST|SAS|TSA|SSF|SSA|TSS|UMC|WLD')]"
   ]
  },
  {
   "cell_type": "markdown",
   "metadata": {},
   "source": [
    "Since these entries had multiple years, I just wanted to find the highest one, regardless of year. Yes, I am assuming that population is increasing for most countries"
   ]
  },
  {
   "cell_type": "code",
   "execution_count": null,
   "metadata": {
    "ExecuteTime": {
     "end_time": "2020-01-02T18:29:25.219203Z",
     "start_time": "2020-01-02T18:29:25.184105Z"
    }
   },
   "outputs": [],
   "source": [
    "grouped = clean_population.groupby(['Country Code'])['Value'].max()\n",
    "grouped"
   ]
  },
  {
   "cell_type": "markdown",
   "metadata": {},
   "source": [
    "I then realized that the above entry had no continent data, so I got another source of information."
   ]
  },
  {
   "cell_type": "code",
   "execution_count": null,
   "metadata": {
    "ExecuteTime": {
     "end_time": "2020-01-02T20:41:16.704968Z",
     "start_time": "2020-01-02T20:41:16.256562Z"
    }
   },
   "outputs": [],
   "source": [
    "continents = pd.read_csv('https://pkgstore.datahub.io/JohnSnowLabs/country-and-continent-codes-list/country-and-continent-codes-list-csv_csv/data/b7876b7f496677669644f3d1069d3121/country-and-continent-codes-list-csv_csv.csv')\n",
    "continents"
   ]
  },
  {
   "cell_type": "markdown",
   "metadata": {},
   "source": [
    "Merging both together"
   ]
  },
  {
   "cell_type": "code",
   "execution_count": null,
   "metadata": {
    "ExecuteTime": {
     "end_time": "2020-01-02T06:43:00.396653Z",
     "start_time": "2020-01-02T06:43:00.374650Z"
    }
   },
   "outputs": [],
   "source": [
    "merged = pd.merge(grouped, continents, how=\"left\", left_on=\"Country Code\", right_on=\"Three_Letter_Country_Code\")"
   ]
  },
  {
   "cell_type": "markdown",
   "metadata": {},
   "source": [
    "Dropping all information that has empty data since that would be useless to me"
   ]
  },
  {
   "cell_type": "code",
   "execution_count": null,
   "metadata": {
    "ExecuteTime": {
     "end_time": "2020-01-02T21:14:08.646035Z",
     "start_time": "2020-01-02T21:14:08.633532Z"
    }
   },
   "outputs": [],
   "source": [
    "merged.dropna(inplace=True)"
   ]
  },
  {
   "cell_type": "markdown",
   "metadata": {},
   "source": [
    "## Creating a function to dynamically display\n",
    "\n",
    "The following function will take two arguments, `selection` and `topk`. `selection` is the continent, and `topk` is for the top number of countries in a continent."
   ]
  },
  {
   "cell_type": "code",
   "execution_count": null,
   "metadata": {
    "ExecuteTime": {
     "end_time": "2020-01-02T21:14:13.469033Z",
     "start_time": "2020-01-02T21:14:13.430102Z"
    }
   },
   "outputs": [],
   "source": [
    "%matplotlib inline\n",
    "import matplotlib.pyplot as plt\n",
    "import numpy as np\n",
    "import seaborn as sns\n",
    "\n",
    "def show_top(selection, topk):\n",
    "    plt.figure(figsize=(23,5))\n",
    "    sns.set_style(\"whitegrid\")\n",
    "    result = merged[merged['Continent_Name'] == selection].sort_values('Value', ascending=False).head(topk)\n",
    "    barplot= sns.barplot(result['Country_Name'], result['Value'])\n",
    "    barplot.set_xticklabels(barplot.get_xticklabels(),rotation=45)"
   ]
  },
  {
   "cell_type": "markdown",
   "metadata": {},
   "source": [
    "Here we just get all the unique continent names"
   ]
  },
  {
   "cell_type": "code",
   "execution_count": null,
   "metadata": {
    "ExecuteTime": {
     "end_time": "2020-01-02T21:20:31.328892Z",
     "start_time": "2020-01-02T21:20:31.309896Z"
    }
   },
   "outputs": [],
   "source": [
    "items = merged['Continent_Name'].unique()\n",
    "items"
   ]
  },
  {
   "cell_type": "markdown",
   "metadata": {},
   "source": [
    "## Exercise 1 \n",
    "\n",
    "1. Create a drop down widget that shows the continents\n",
    "2. Create a slider widget that will set the top number of countries, make the number 1 through 25.\n",
    "3. Call `interact` with the `show_top` function above"
   ]
  },
  {
   "cell_type": "code",
   "execution_count": null,
   "metadata": {
    "ExecuteTime": {
     "end_time": "2020-01-02T07:02:36.277310Z",
     "start_time": "2020-01-02T07:02:36.259430Z"
    }
   },
   "outputs": [],
   "source": []
  },
  {
   "cell_type": "code",
   "execution_count": null,
   "metadata": {
    "ExecuteTime": {
     "end_time": "2020-01-02T07:02:39.763906Z",
     "start_time": "2020-01-02T07:02:39.341357Z"
    }
   },
   "outputs": [],
   "source": []
  }
 ],
 "metadata": {
  "kernelspec": {
   "display_name": "Python 3",
   "language": "python",
   "name": "python3"
  },
  "language_info": {
   "codemirror_mode": {
    "name": "ipython",
    "version": 3
   },
   "file_extension": ".py",
   "mimetype": "text/x-python",
   "name": "python",
   "nbconvert_exporter": "python",
   "pygments_lexer": "ipython3",
   "version": "3.7.5"
  },
  "toc": {
   "base_numbering": 1,
   "nav_menu": {},
   "number_sections": true,
   "sideBar": true,
   "skip_h1_title": false,
   "title_cell": "Table of Contents",
   "title_sidebar": "Contents",
   "toc_cell": false,
   "toc_position": {},
   "toc_section_display": true,
   "toc_window_display": false
  }
 },
 "nbformat": 4,
 "nbformat_minor": 2
}
